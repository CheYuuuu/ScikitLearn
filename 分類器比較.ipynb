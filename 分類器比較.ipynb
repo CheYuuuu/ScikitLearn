{
  "nbformat": 4,
  "nbformat_minor": 0,
  "metadata": {
    "colab": {
      "name": "KNN&決策樹.ipynb",
      "provenance": [],
      "authorship_tag": "ABX9TyPTZxpL9wDEAigU7+hYU6PH",
      "include_colab_link": true
    },
    "kernelspec": {
      "name": "python3",
      "display_name": "Python 3"
    },
    "language_info": {
      "name": "python"
    }
  },
  "cells": [
    {
      "cell_type": "markdown",
      "metadata": {
        "id": "view-in-github",
        "colab_type": "text"
      },
      "source": [
        "<a href=\"https://colab.research.google.com/github/CheYuuuu/ScikitLearn/blob/main/%E5%88%86%E9%A1%9E%E5%99%A8%E6%AF%94%E8%BC%83.ipynb\" target=\"_parent\"><img src=\"https://colab.research.google.com/assets/colab-badge.svg\" alt=\"Open In Colab\"/></a>"
      ]
    },
    {
      "cell_type": "code",
      "metadata": {
        "id": "AsS3OTuaYXmC"
      },
      "source": [
        "from sklearn.tree import DecisionTreeClassifier #決策樹分類\n",
        "from sklearn.neighbors import KNeighborsClassifier # K鄰近分類\n",
        "from sklearn.linear_model import LogisticRegression #邏輯斯迴歸\n",
        "from sklearn.neural_network import MLPClassifier #多層感知器分類器\n",
        "from sklearn.metrics import accuracy_score #accuracy_score顯示正確率 \n",
        "from sklearn.model_selection import train_test_split #分成測試集與資料集\n"
      ],
      "execution_count": 15,
      "outputs": []
    },
    {
      "cell_type": "code",
      "metadata": {
        "colab": {
          "base_uri": "https://localhost:8080/"
        },
        "id": "TfoKe2IqY3ZG",
        "outputId": "d27c61b8-9054-4e98-f4f7-1ee7d4e4b61e"
      },
      "source": [
        "#load dataset\n",
        "from sklearn.datasets import load_digits\n",
        "data = load_digits()\n",
        "#find data and label\n",
        "x, y = data.data, data.target\n",
        "#train_test_split\n",
        "x_train, x_test, y_train, y_test = train_test_split(x, y, test_size=1/3.0)\n",
        "\n",
        "\n",
        "\n",
        "#DecisionTree Classifier\n",
        "tree = DecisionTreeClassifier(max_depth=9)\n",
        "tree.fit(x_train,y_train)\n",
        "tree_y_pred = tree.predict(x_test)\n",
        "print('Results of DecisionTree:')\n",
        "print(f'Accuacy of Training Set is {accuracy_score(y_train,tree.predict(x_train))}')\n",
        "print(f'Accuacy of Testing Set is {accuracy_score(y_test,tree_y_pred)}')\n",
        "print()\n",
        "#KNN Classifier\n",
        "knn = KNeighborsClassifier(n_neighbors=5)\n",
        "knn.fit(x_train,y_train)\n",
        "KNN_y_pred = knn.predict(x_test)\n",
        "print('Results of KNN:')\n",
        "print(f'Accuacy of Training Set is {accuracy_score(y_train,knn.predict(x_train))}')\n",
        "print(f'Accuacy of Testing Set is {accuracy_score(y_test,KNN_y_pred)}')\n",
        "print()\n",
        "#MLP Classifier\n",
        "mlp = MLPClassifier()\n",
        "mlp.fit(x_train,y_train)\n",
        "mlp_y_pred = mlp.predict(x_test)\n",
        "print('Results of MLPClassifier:')\n",
        "print(f'Accuacy of Training Set is {accuracy_score(y_train,tree.predict(x_train))}')\n",
        "print(f'Accuacy of Testing Set is {accuracy_score(y_test,mlp_y_pred)}')\n",
        "print()"
      ],
      "execution_count": 23,
      "outputs": [
        {
          "output_type": "stream",
          "name": "stdout",
          "text": [
            "Results of DecisionTree:\n",
            "Accuacy of Training Set is 0.9682804674457429\n",
            "Accuacy of Testing Set is 0.8263772954924875\n",
            "\n",
            "Results of KNN:\n",
            "Accuacy of Training Set is 0.9908180300500835\n",
            "Accuacy of Testing Set is 0.9799666110183639\n",
            "\n",
            "Results of MLPClassifier:\n",
            "Accuacy of Training Set is 0.9682804674457429\n",
            "Accuacy of Testing Set is 0.9582637729549248\n",
            "\n"
          ]
        }
      ]
    }
  ]
}