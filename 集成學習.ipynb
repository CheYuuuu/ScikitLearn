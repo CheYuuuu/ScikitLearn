{
  "nbformat": 4,
  "nbformat_minor": 0,
  "metadata": {
    "colab": {
      "name": "隨機森林.ipynb",
      "provenance": [],
      "authorship_tag": "ABX9TyPKb7dTmxbyfjVXcIlpWHZA",
      "include_colab_link": true
    },
    "kernelspec": {
      "name": "python3",
      "display_name": "Python 3"
    },
    "language_info": {
      "name": "python"
    }
  },
  "cells": [
    {
      "cell_type": "markdown",
      "metadata": {
        "id": "view-in-github",
        "colab_type": "text"
      },
      "source": [
        "<a href=\"https://colab.research.google.com/github/CheYuuuu/ScikitLearn/blob/main/%E9%9B%86%E6%88%90%E5%AD%B8%E7%BF%92.ipynb\" target=\"_parent\"><img src=\"https://colab.research.google.com/assets/colab-badge.svg\" alt=\"Open In Colab\"/></a>"
      ]
    },
    {
      "cell_type": "code",
      "execution_count": 31,
      "metadata": {
        "id": "7bHFXyCNEtyr"
      },
      "outputs": [],
      "source": [
        "#載入資料\n",
        "from sklearn.model_selection import train_test_split\n",
        "from sklearn.datasets import load_digits\n",
        "data = load_digits()\n",
        "x, y = data.data, data.target\n",
        "x_train,x_test,y_train,y_test=train_test_split(x,y,test_size=0.3)"
      ]
    },
    {
      "cell_type": "code",
      "source": [
        "#決策樹 （對照組）\n",
        "from sklearn.tree import DecisionTreeClassifier\n",
        "model_tree = DecisionTreeClassifier()\n",
        "model_tree.fit(x_train, y_train)"
      ],
      "metadata": {
        "colab": {
          "base_uri": "https://localhost:8080/"
        },
        "id": "2H2aPAttIbgl",
        "outputId": "6ada3a15-2825-4dbf-c065-22e03617d2e8"
      },
      "execution_count": 32,
      "outputs": [
        {
          "output_type": "execute_result",
          "data": {
            "text/plain": [
              "DecisionTreeClassifier()"
            ]
          },
          "metadata": {},
          "execution_count": 32
        }
      ]
    },
    {
      "cell_type": "code",
      "source": [
        "#隨機森林\n",
        "from sklearn.ensemble import RandomForestClassifier\n",
        "model_rfc = RandomForestClassifier()\n",
        "model_rfc.fit(x_train, y_train)"
      ],
      "metadata": {
        "colab": {
          "base_uri": "https://localhost:8080/"
        },
        "id": "2EKVnv5hIR_Y",
        "outputId": "6b35c3c8-8c54-475c-b932-79487f930310"
      },
      "execution_count": 33,
      "outputs": [
        {
          "output_type": "execute_result",
          "data": {
            "text/plain": [
              "RandomForestClassifier()"
            ]
          },
          "metadata": {},
          "execution_count": 33
        }
      ]
    },
    {
      "cell_type": "code",
      "source": [
        "# !pip install xgboost"
      ],
      "metadata": {
        "id": "dkL58qzHNPAZ"
      },
      "execution_count": 34,
      "outputs": []
    },
    {
      "cell_type": "code",
      "source": [
        "# XGBoost\n",
        "from xgboost import XGBClassifier\n",
        "model_xgb = XGBClassifier(use_label_encoder=False) #預設模型\n",
        "model_xgb.fit(x_train, y_train)"
      ],
      "metadata": {
        "colab": {
          "base_uri": "https://localhost:8080/"
        },
        "id": "evHxtTiFI4pl",
        "outputId": "d8b2b76e-d388-4db1-801a-802534f1071c"
      },
      "execution_count": 35,
      "outputs": [
        {
          "output_type": "execute_result",
          "data": {
            "text/plain": [
              "XGBClassifier(objective='multi:softprob', use_label_encoder=False)"
            ]
          },
          "metadata": {},
          "execution_count": 35
        }
      ]
    },
    {
      "cell_type": "code",
      "source": [
        "#!pip install catboost"
      ],
      "metadata": {
        "id": "UztU1w5DL1bo"
      },
      "execution_count": 36,
      "outputs": []
    },
    {
      "cell_type": "code",
      "source": [
        "# CatBoost\n",
        "from catboost import CatBoostClassifier\n",
        "model_cat = CatBoostClassifier(verbose=0) #不顯示訓練過程\n",
        "model_cat.fit(x_train, y_train)"
      ],
      "metadata": {
        "colab": {
          "base_uri": "https://localhost:8080/"
        },
        "id": "CHEtsGpNJ8Gx",
        "outputId": "18a99874-6246-4d85-b921-b65545b572cb"
      },
      "execution_count": 37,
      "outputs": [
        {
          "output_type": "execute_result",
          "data": {
            "text/plain": [
              "<catboost.core.CatBoostClassifier at 0x7fd529b35550>"
            ]
          },
          "metadata": {},
          "execution_count": 37
        }
      ]
    },
    {
      "cell_type": "code",
      "source": [
        "# !pip install lightgbm"
      ],
      "metadata": {
        "id": "f_WBxxOLNVDI"
      },
      "execution_count": 38,
      "outputs": []
    },
    {
      "cell_type": "code",
      "source": [
        "# LightGBM\n",
        "import lightgbm as lgb\n",
        "model_lgb = lgb.LGBMClassifier()\n",
        "model_lgb.fit(x_train, y_train)"
      ],
      "metadata": {
        "colab": {
          "base_uri": "https://localhost:8080/"
        },
        "id": "EeMiSK5hKiXa",
        "outputId": "10f0320c-acfc-4cce-c423-9e2eb395f459"
      },
      "execution_count": 39,
      "outputs": [
        {
          "output_type": "execute_result",
          "data": {
            "text/plain": [
              "LGBMClassifier()"
            ]
          },
          "metadata": {},
          "execution_count": 39
        }
      ]
    },
    {
      "cell_type": "code",
      "source": [
        "print(\"Score of DecisionTreeClassifier:\",model_tree.score(x_test, y_test))\n",
        "print(\"Score of RandomForestClassifier:\",model_rfc.score(x_test, y_test))\n",
        "print(\"Score of XGBClassifierr:\",model_xgb.score(x_test, y_test))\n",
        "print(\"Score of CatBoostClassifier:\",model_cat.score(x_test, y_test))\n",
        "print(\"Score of lightgbm:\",model_lgb.score(x_test, y_test))"
      ],
      "metadata": {
        "colab": {
          "base_uri": "https://localhost:8080/"
        },
        "id": "sGrEdXZKK80b",
        "outputId": "f6a791f8-9487-40c3-af6a-aa7f9e403bf2"
      },
      "execution_count": 40,
      "outputs": [
        {
          "output_type": "stream",
          "name": "stdout",
          "text": [
            "Score of DecisionTreeClassifier: 0.85\n",
            "Score of RandomForestClassifier: 0.9703703703703703\n",
            "Score of XGBClassifierr: 0.9648148148148148\n",
            "Score of CatBoostClassifier: 0.9851851851851852\n",
            "Score of lightgbm: 0.9722222222222222\n"
          ]
        }
      ]
    }
  ]
}